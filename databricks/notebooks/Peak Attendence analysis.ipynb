{
 "cells": [
  {
   "cell_type": "markdown",
   "metadata": {
    "application/vnd.databricks.v1+cell": {
     "cellMetadata": {
      "byteLimit": 2048000,
      "rowLimit": 10000
     },
     "inputWidgets": {},
     "nuid": "8cdd3716-b49f-4b6a-a509-01b9f73c7dc0",
     "showTitle": false,
     "title": ""
    }
   },
   "source": [
    "# Analyze member Access_Logs for peak attendance times"
   ]
  },
  {
   "cell_type": "markdown",
   "metadata": {
    "application/vnd.databricks.v1+cell": {
     "cellMetadata": {
      "byteLimit": 2048000,
      "rowLimit": 10000
     },
     "inputWidgets": {},
     "nuid": "11e295d6-194d-43d6-908d-dbfa7ddeb585",
     "showTitle": false,
     "title": ""
    }
   },
   "source": [
    "JDBC Connection for azure SQL Server"
   ]
  },
  {
   "cell_type": "code",
   "execution_count": 0,
   "metadata": {
    "application/vnd.databricks.v1+cell": {
     "cellMetadata": {
      "byteLimit": 2048000,
      "rowLimit": 10000
     },
     "inputWidgets": {},
     "nuid": "32b20ff2-fd1a-4406-9c97-788d09e70fa6",
     "showTitle": false,
     "title": ""
    }
   },
   "outputs": [],
   "source": [
    "import pyodbc\n",
    "import pandas as pd\n",
    "from pyspark.sql import SparkSession\n",
    "from pyspark.sql.functions import format_string\n",
    "\n",
    "spark = SparkSession.builder.appName(\"virgin active club access\").getOrCreate()\n",
    "\n",
    "jdbcHostname =\"virginactive-clubaccess-server.database.windows.net\"\n",
    "jdbcDatabase =\"VirginActiveClubAccess\"\n",
    "jdbcPort = 1433\n",
    "jdbcUrl = \"jdbc:sqlserver://{0}:{1};database={2}\".format(jdbcHostname,jdbcPort,jdbcDatabase)\n",
    "\n",
    "# Using Databricks secrets to retrieve database credentials\n",
    "dbuser = dbutils.secrets.get(scope=\"virginactive\", key=\"dbUsername\")\n",
    "dbpassword = dbutils.secrets.get(scope=\"virginactive\", key=\"dbPassword\")\n",
    "\n",
    "\n",
    "connectionProperties = {\n",
    "    \"user\": dbuser,\n",
    "    \"password\": dbpassword,\n",
    "    \"driver\": \"com.microsoft.sqlserver.jdbc.SQLServerDriver\"\n",
    "}"
   ]
  },
  {
   "cell_type": "markdown",
   "metadata": {
    "application/vnd.databricks.v1+cell": {
     "cellMetadata": {
      "byteLimit": 2048000,
      "rowLimit": 10000
     },
     "inputWidgets": {},
     "nuid": "d8ea2c41-e78e-4c98-83f4-c0791c7996f6",
     "showTitle": false,
     "title": ""
    }
   },
   "source": [
    "Execute SQL Query to read data through JDBC Connection and retrive access_logs from source table"
   ]
  },
  {
   "cell_type": "code",
   "execution_count": 0,
   "metadata": {
    "application/vnd.databricks.v1+cell": {
     "cellMetadata": {
      "byteLimit": 2048000,
      "rowLimit": 10000
     },
     "inputWidgets": {},
     "nuid": "fa6e4b8d-2a66-4c46-b3c3-e77e118b2a2d",
     "showTitle": false,
     "title": ""
    }
   },
   "outputs": [
    {
     "output_type": "display_data",
     "data": {
      "text/html": [
       "<style scoped>\n",
       "  .table-result-container {\n",
       "    max-height: 300px;\n",
       "    overflow: auto;\n",
       "  }\n",
       "  table, th, td {\n",
       "    border: 1px solid black;\n",
       "    border-collapse: collapse;\n",
       "  }\n",
       "  th, td {\n",
       "    padding: 5px;\n",
       "  }\n",
       "  th {\n",
       "    text-align: left;\n",
       "  }\n",
       "</style><div class='table-result-container'><table class='table-result'><thead style='background-color: white'><tr><th>AccessDate</th><th>AccessHour</th><th>CheckIns</th><th>PeakAccessTime</th></tr></thead><tbody><tr><td>2024-02-20</td><td>9</td><td>14</td><td>09:00</td></tr><tr><td>2024-02-20</td><td>10</td><td>7</td><td>10:00</td></tr><tr><td>2024-02-20</td><td>12</td><td>21</td><td>12:00</td></tr></tbody></table></div>"
      ]
     },
     "metadata": {
      "application/vnd.databricks.v1+output": {
       "addedWidgets": {},
       "aggData": [],
       "aggError": "",
       "aggOverflow": false,
       "aggSchema": [],
       "aggSeriesLimitReached": false,
       "aggType": "",
       "arguments": {},
       "columnCustomDisplayInfos": {},
       "data": [
        [
         "2024-02-20",
         9,
         14,
         "09:00"
        ],
        [
         "2024-02-20",
         10,
         7,
         "10:00"
        ],
        [
         "2024-02-20",
         12,
         21,
         "12:00"
        ]
       ],
       "datasetInfos": [],
       "dbfsResultPath": null,
       "isJsonSchema": true,
       "metadata": {},
       "overflow": false,
       "plotOptions": {
        "customPlotOptions": {},
        "displayType": "table",
        "pivotAggregation": null,
        "pivotColumns": null,
        "xColumns": null,
        "yColumns": null
       },
       "removedWidgets": [],
       "schema": [
        {
         "metadata": "{\"scale\":0}",
         "name": "AccessDate",
         "type": "\"date\""
        },
        {
         "metadata": "{\"scale\":0}",
         "name": "AccessHour",
         "type": "\"integer\""
        },
        {
         "metadata": "{\"scale\":0}",
         "name": "CheckIns",
         "type": "\"integer\""
        },
        {
         "metadata": "{}",
         "name": "PeakAccessTime",
         "type": "\"string\""
        }
       ],
       "type": "table"
      }
     },
     "output_type": "display_data"
    }
   ],
   "source": [
    "query =   \"\"\"\n",
    "    (SELECT CAST(AccessTime AS DATE) AS AccessDate,\n",
    "            DATEPART(hour, AccessTime) AS AccessHour,\n",
    "            COUNT(*) AS CheckIns\n",
    "     FROM AccessLogs\n",
    "     WHERE AccessType = 'CheckIn'\n",
    "     GROUP BY CAST(AccessTime AS DATE), DATEPART(hour, AccessTime)\n",
    "    ) AS peak_times\n",
    "\"\"\"\n",
    "df = spark.read.jdbc(url=jdbcUrl,table=query, properties=connectionProperties)\n",
    "\n",
    "# Applying ordering after loading data\n",
    "df_ordered = df.orderBy(\"AccessDate\", \"AccessHour\")\n",
    "\n",
    "df_with_time = df_ordered.withColumn(\"PeakAccessTime\", format_string(\"%02d:00\", \"AccessHour\"))\n",
    "\n",
    "# Display the DataFrame\n",
    "display(df_with_time)"
   ]
  }
 ],
 "metadata": {
  "application/vnd.databricks.v1+notebook": {
   "dashboards": [],
   "language": "python",
   "notebookMetadata": {
    "pythonIndentUnit": 4
   },
   "notebookName": "Peak Attendence analysis",
   "widgets": {}
  }
 },
 "nbformat": 4,
 "nbformat_minor": 0
}
